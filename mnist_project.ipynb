{
 "cells": [
  {
   "cell_type": "markdown",
   "id": "76a494cf",
   "metadata": {},
   "source": [
    "# Import the packages"
   ]
  },
  {
   "cell_type": "code",
   "execution_count": 1,
   "id": "f1e0eca4",
   "metadata": {},
   "outputs": [
    {
     "name": "stderr",
     "output_type": "stream",
     "text": [
      "/home/islam/.local/lib/python3.6/site-packages/tqdm/auto.py:22: TqdmWarning: IProgress not found. Please update jupyter and ipywidgets. See https://ipywidgets.readthedocs.io/en/stable/user_install.html\n",
      "  from .autonotebook import tqdm as notebook_tqdm\n"
     ]
    }
   ],
   "source": [
    "import numpy as np\n",
    "import tensorflow as tf\n",
    "\n",
    "import tensorflow_datasets as tfds"
   ]
  },
  {
   "cell_type": "markdown",
   "id": "0b56ef9e",
   "metadata": {},
   "source": [
    "# Data"
   ]
  },
  {
   "cell_type": "code",
   "execution_count": 2,
   "id": "05f60653",
   "metadata": {},
   "outputs": [],
   "source": [
    "# as_supervised return the data in 2 tuple structure input and target\n",
    "# with_info provides a table containing info about version ,feature,samples of the dataset \n",
    "\n",
    "mnist_dataset , mnist_info=tfds.load(name='mnist',with_info=True,as_supervised=True)"
   ]
  },
  {
   "cell_type": "markdown",
   "id": "fee004cc",
   "metadata": {},
   "source": [
    "#  Dataset Splitting"
   ]
  },
  {
   "cell_type": "code",
   "execution_count": 3,
   "id": "bcc9550a",
   "metadata": {},
   "outputs": [],
   "source": [
    "mnist_train ,mnist_test=mnist_dataset[\"train\"],mnist_dataset[\"test\"]\n",
    "\n",
    "\n",
    "# Defining the Validation Sample Size\n",
    "num_validation_samples=.1*mnist_info.splits[\"train\"].num_examples\n",
    "num_validation_samples=tf.cast(num_validation_samples,tf.int64)\n",
    "\n",
    "# Defining the Test Sample Size\n",
    "num_test_samples=mnist_info.splits[\"test\"].num_examples\n",
    "num_test_samples=tf.cast(num_test_samples,tf.int64)\n",
    "\n",
    "\n",
    "# Scaling the Images\n",
    "def scale(image,label):\n",
    "    image=tf.cast(image,tf.float32)\n",
    "    image/=255\n",
    "    return image,label\n",
    "\n",
    "scaled_train_and_validation_data=mnist_train.map(scale)\n",
    "scaled_test=mnist_test.map(scale)"
   ]
  },
  {
   "cell_type": "markdown",
   "id": "a014780d",
   "metadata": {},
   "source": [
    "# Shuffling the Training and Test Data"
   ]
  },
  {
   "cell_type": "code",
   "execution_count": 4,
   "id": "db88be58",
   "metadata": {},
   "outputs": [],
   "source": [
    "BUFFER_SIZE=10000\n",
    "\n",
    "shuffled_train_and_validation_data=scaled_train_and_validation_data.shuffle(BUFFER_SIZE)\n",
    "\n",
    "shuffled_test=scaled_test.shuffle(BUFFER_SIZE)\n",
    "\n",
    "\n",
    "#  Creating the Validation Data\n",
    "validation_data=shuffled_train_and_validation_data.take(num_validation_samples)\n",
    "\n",
    "#  Creating the Training Data\n",
    "\n",
    "train_data=shuffled_train_and_validation_data.skip(num_validation_samples)\n",
    "\n",
    "\n"
   ]
  },
  {
   "cell_type": "markdown",
   "id": "35450c7d",
   "metadata": {},
   "source": [
    "#  Batching the Data:"
   ]
  },
  {
   "cell_type": "code",
   "execution_count": 5,
   "id": "1c20ab01",
   "metadata": {},
   "outputs": [],
   "source": [
    "BATCH_SIZE=100\n",
    "\n",
    "train_data=train_data.batch(BATCH_SIZE)\n",
    "validation_data=validation_data.batch(num_validation_samples)\n",
    "\n",
    "\n",
    "test_data=scaled_test.batch(num_test_samples)\n",
    "\n",
    "\n",
    "\n",
    "validation_input,validation_target=next(iter(validation_data))"
   ]
  },
  {
   "cell_type": "markdown",
   "id": "baab0c75",
   "metadata": {},
   "source": [
    "# Model"
   ]
  },
  {
   "cell_type": "markdown",
   "id": "2e03ea85",
   "metadata": {},
   "source": [
    "## Outline the Model"
   ]
  },
  {
   "cell_type": "code",
   "execution_count": 62,
   "id": "c19bd1aa",
   "metadata": {},
   "outputs": [],
   "source": [
    "input_size=2\n",
    "output_size=10\n",
    "hidden_layer_size=512\n",
    "\n",
    "model = tf.keras.Sequential([\n",
    "    tf.keras.layers.Flatten(input_shape=(28,28,1)),\n",
    "    tf.keras.layers.Dense(hidden_layer_size, activation='relu'),\n",
    "    tf.keras.layers.Dropout(.3),\n",
    "\n",
    "    tf.keras.layers.Dense(hidden_layer_size, activation='relu'),  # Additional hidden layer\n",
    "        tf.keras.layers.Dropout(.3),\n",
    "\n",
    "    tf.keras.layers.Dense(output_size,activation='softmax')  # Output layer\n",
    "])"
   ]
  },
  {
   "cell_type": "markdown",
   "id": "60123e70",
   "metadata": {},
   "source": [
    "## Choose the optimizer and loss function"
   ]
  },
  {
   "cell_type": "code",
   "execution_count": 63,
   "id": "e262931c",
   "metadata": {},
   "outputs": [],
   "source": [
    "model.compile(optimizer='adam',loss='sparse_categorical_crossentropy',metrics=[\"accuracy\"])"
   ]
  },
  {
   "cell_type": "markdown",
   "id": "7d52e77c",
   "metadata": {},
   "source": [
    "## Training"
   ]
  },
  {
   "cell_type": "code",
   "execution_count": 64,
   "id": "5b53995f",
   "metadata": {},
   "outputs": [
    {
     "name": "stdout",
     "output_type": "stream",
     "text": [
      "Epoch 1/10\n",
      "540/540 - 5s - loss: 0.2734 - accuracy: 0.9176 - val_loss: 0.1226 - val_accuracy: 0.9622\n",
      "Epoch 2/10\n",
      "540/540 - 4s - loss: 0.1196 - accuracy: 0.9632 - val_loss: 0.0776 - val_accuracy: 0.9770\n",
      "Epoch 3/10\n",
      "540/540 - 4s - loss: 0.0907 - accuracy: 0.9714 - val_loss: 0.0648 - val_accuracy: 0.9788\n",
      "Epoch 4/10\n",
      "540/540 - 4s - loss: 0.0746 - accuracy: 0.9765 - val_loss: 0.0519 - val_accuracy: 0.9820\n",
      "Epoch 5/10\n",
      "540/540 - 4s - loss: 0.0637 - accuracy: 0.9793 - val_loss: 0.0399 - val_accuracy: 0.9867\n",
      "Epoch 6/10\n",
      "540/540 - 4s - loss: 0.0558 - accuracy: 0.9821 - val_loss: 0.0440 - val_accuracy: 0.9848\n",
      "Epoch 7/10\n",
      "540/540 - 4s - loss: 0.0487 - accuracy: 0.9840 - val_loss: 0.0341 - val_accuracy: 0.9900\n",
      "Epoch 8/10\n",
      "540/540 - 4s - loss: 0.0438 - accuracy: 0.9859 - val_loss: 0.0338 - val_accuracy: 0.9903\n",
      "Epoch 9/10\n",
      "540/540 - 4s - loss: 0.0412 - accuracy: 0.9865 - val_loss: 0.0247 - val_accuracy: 0.9930\n",
      "Epoch 10/10\n",
      "540/540 - 5s - loss: 0.0361 - accuracy: 0.9880 - val_loss: 0.0263 - val_accuracy: 0.9910\n"
     ]
    },
    {
     "data": {
      "text/plain": [
       "<keras.callbacks.History at 0x7efe2134a198>"
      ]
     },
     "execution_count": 64,
     "metadata": {},
     "output_type": "execute_result"
    }
   ],
   "source": [
    "EPOCHS_SIZE=10\n",
    "\n",
    "\n",
    "model.fit(train_data,epochs=EPOCHS_SIZE,validation_data=(validation_input,validation_target),verbose=2)"
   ]
  },
  {
   "cell_type": "markdown",
   "id": "0c9cd2ff",
   "metadata": {},
   "source": [
    "##  Test the model"
   ]
  },
  {
   "cell_type": "code",
   "execution_count": 65,
   "id": "bcc3bc82",
   "metadata": {},
   "outputs": [
    {
     "name": "stdout",
     "output_type": "stream",
     "text": [
      "1/1 [==============================] - 0s 204ms/step - loss: 0.0669 - accuracy: 0.9825\n"
     ]
    }
   ],
   "source": [
    "test_loss,test_accuracy=model.evaluate(test_data)"
   ]
  },
  {
   "cell_type": "code",
   "execution_count": 57,
   "id": "c0b169fb",
   "metadata": {},
   "outputs": [
    {
     "name": "stdout",
     "output_type": "stream",
     "text": [
      "Test loss : 0.08, Test accuracy : 98.01%\n"
     ]
    }
   ],
   "source": [
    "print(\"Test loss : {0:.2f}, Test accuracy : {1:.2f}%\".format(test_loss,test_accuracy*100))"
   ]
  },
  {
   "cell_type": "markdown",
   "id": "052d5286",
   "metadata": {},
   "source": [
    "# more complex model"
   ]
  },
  {
   "cell_type": "code",
   "execution_count": 119,
   "id": "09930ef9",
   "metadata": {},
   "outputs": [
    {
     "name": "stdout",
     "output_type": "stream",
     "text": [
      "Epoch 1/10\n",
      "540/540 - 23s - loss: 0.2431 - accuracy: 0.9283 - val_loss: 0.1423 - val_accuracy: 0.9613\n",
      "Epoch 2/10\n",
      "540/540 - 23s - loss: 0.1116 - accuracy: 0.9684 - val_loss: 0.0771 - val_accuracy: 0.9788\n",
      "Epoch 3/10\n",
      "540/540 - 23s - loss: 0.0785 - accuracy: 0.9775 - val_loss: 0.0767 - val_accuracy: 0.9768\n",
      "Epoch 4/10\n",
      "540/540 - 23s - loss: 0.0638 - accuracy: 0.9829 - val_loss: 0.0503 - val_accuracy: 0.9847\n",
      "Epoch 5/10\n",
      "540/540 - 23s - loss: 0.0531 - accuracy: 0.9850 - val_loss: 0.0474 - val_accuracy: 0.9855\n",
      "Epoch 6/10\n",
      "540/540 - 23s - loss: 0.0500 - accuracy: 0.9861 - val_loss: 0.0821 - val_accuracy: 0.9782\n",
      "Epoch 7/10\n",
      "540/540 - 24s - loss: 0.0464 - accuracy: 0.9871 - val_loss: 0.0667 - val_accuracy: 0.9838\n",
      "Epoch 8/10\n",
      "540/540 - 25s - loss: 0.0388 - accuracy: 0.9898 - val_loss: 0.0370 - val_accuracy: 0.9908\n",
      "Epoch 9/10\n",
      "540/540 - 27s - loss: 0.0360 - accuracy: 0.9904 - val_loss: 0.0382 - val_accuracy: 0.9890\n",
      "Epoch 10/10\n",
      "540/540 - 25s - loss: 0.0302 - accuracy: 0.9923 - val_loss: 0.0252 - val_accuracy: 0.9922\n"
     ]
    },
    {
     "data": {
      "text/plain": [
       "<keras.callbacks.History at 0x7f9787b9ec18>"
      ]
     },
     "execution_count": 119,
     "metadata": {},
     "output_type": "execute_result"
    }
   ],
   "source": [
    "input_size=2\n",
    "output_size=10\n",
    "hidden_layer_size=1000\n",
    "\n",
    "model = tf.keras.Sequential([\n",
    "    tf.keras.layers.Flatten(input_shape=(28,28,1)),\n",
    "    tf.keras.layers.Dense(hidden_layer_size, activation='relu'),\n",
    "        tf.keras.layers.Dense(hidden_layer_size, activation='relu'),\n",
    "    tf.keras.layers.Dense(hidden_layer_size, activation='relu'),\n",
    "        tf.keras.layers.Dense(hidden_layer_size, activation='relu'),\n",
    "\n",
    "\n",
    "    tf.keras.layers.Dense(hidden_layer_size, activation='relu'),  # Additional hidden layer\n",
    "    tf.keras.layers.Dense(output_size,activation='softmax')  # Output layer\n",
    "])\n",
    "\n",
    "model.compile(optimizer='adam',loss='sparse_categorical_crossentropy',metrics=[\"accuracy\"])\n",
    "\n",
    "model.fit(train_data,epochs=10,validation_data=(validation_input,validation_target),verbose=2)"
   ]
  },
  {
   "cell_type": "code",
   "execution_count": 126,
   "id": "2603e343",
   "metadata": {},
   "outputs": [
    {
     "name": "stdout",
     "output_type": "stream",
     "text": [
      "1/1 [==============================] - 1s 619ms/step - loss: 0.0993 - accuracy: 0.9785\n"
     ]
    }
   ],
   "source": [
    "test_loss,test_accuracy=model.evaluate(test_data)"
   ]
  },
  {
   "cell_type": "code",
   "execution_count": 127,
   "id": "930b2b90",
   "metadata": {},
   "outputs": [
    {
     "name": "stdout",
     "output_type": "stream",
     "text": [
      "Test loss : 0.10, Test accuracy : 97.85%\n"
     ]
    }
   ],
   "source": [
    "print(\"Test loss : {0:.2f}, Test accuracy : {1:.2f}%\".format(test_loss,test_accuracy*100))"
   ]
  }
 ],
 "metadata": {
  "kernelspec": {
   "display_name": "Python 3",
   "language": "python",
   "name": "python3"
  },
  "language_info": {
   "codemirror_mode": {
    "name": "ipython",
    "version": 3
   },
   "file_extension": ".py",
   "mimetype": "text/x-python",
   "name": "python",
   "nbconvert_exporter": "python",
   "pygments_lexer": "ipython3",
   "version": "3.6.9"
  }
 },
 "nbformat": 4,
 "nbformat_minor": 5
}
